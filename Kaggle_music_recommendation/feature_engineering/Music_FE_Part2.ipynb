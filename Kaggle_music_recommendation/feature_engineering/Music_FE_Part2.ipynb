{
 "cells": [
  {
   "cell_type": "markdown",
   "metadata": {},
   "source": [
    "# 特征工程 - Part2\n",
    "在Part1的基础上，增加新的特征，最后得到296维特征\n"
   ]
  },
  {
   "cell_type": "code",
   "execution_count": 1,
   "metadata": {},
   "outputs": [],
   "source": [
    "import gc\n",
    "import math\n",
    "import time\n",
    "import numpy as np\n",
    "import pandas as pd\n",
    "from collections import defaultdict\n",
    "from sklearn.metrics import roc_auc_score\n",
    "\n",
    "train = pd.read_csv('./music_val/train_val_svd.csv')\n",
    "test = pd.read_csv('./music_val/test_val_svd.csv')\n",
    "members = pd.read_csv('./music_val/members_val_svd.csv')\n",
    "songs = pd.read_csv('./music_val/songs_val_svd.csv')"
   ]
  },
  {
   "cell_type": "code",
   "execution_count": null,
   "metadata": {},
   "outputs": [],
   "source": [
    "pd.set_option('display.max_columns', None)\n",
    "pd.set_option('display.width', None)\n",
    "pd.set_option('display.max_rows', None)"
   ]
  },
  {
   "cell_type": "code",
   "execution_count": 2,
   "metadata": {},
   "outputs": [
    {
     "data": {
      "text/plain": [
       "(5901935, 11, 1475483, 11, 30755, 120, 359966, 99)"
      ]
     },
     "execution_count": 2,
     "metadata": {},
     "output_type": "execute_result"
    }
   ],
   "source": [
    "train.shape + test.shape + members.shape + songs.shape"
   ]
  },
  {
   "cell_type": "markdown",
   "metadata": {},
   "source": [
    "## 2. 统计用户的活跃度和歌曲的热度"
   ]
  },
  {
   "cell_type": "code",
   "execution_count": null,
   "metadata": {},
   "outputs": [],
   "source": [
    "# 训练集和测试集的数目作为索引\n",
    "concat = train[['msno', 'song_id']].append(test[['msno', 'song_id']])\n",
    "concat['timestamp'] = range(len(concat))\n",
    "\n",
    "## windows_based count\n",
    "window_sizes = [10, 25, 500, 5000, 10000, 50000]\n",
    "\n",
    "msno_list = concat['msno'].values\n",
    "song_list = concat['song_id'].values\n",
    "\n",
    "def get_window_cnt(values, idx, window_size):\n",
    "    lower = max(0, idx-window_size)\n",
    "    upper = min(len(values), idx+window_size)\n",
    "    return (values[lower:idx] == values[idx]).sum(), (values[idx:upper] == values[idx]).sum()\n",
    "\n",
    "# 得到不同窗口的前后相同用户或者歌曲个数\n",
    "for window_size in window_sizes:\n",
    "    msno_before_cnt = np.zeros(len(concat))\n",
    "    song_before_cnt = np.zeros(len(concat))\n",
    "    msno_after_cnt = np.zeros(len(concat))\n",
    "    song_after_cnt = np.zeros(len(concat))\n",
    "    for i in range(len(concat)):\n",
    "        msno_before_cnt[i], msno_after_cnt[i] = get_window_cnt(msno_list, i, window_size)\n",
    "        song_before_cnt[i], song_after_cnt[i] = get_window_cnt(song_list, i, window_size)\n",
    "    concat['msno_%d_before_cnt'%window_size] = msno_before_cnt\n",
    "    concat['song_%d_before_cnt'%window_size] = song_before_cnt\n",
    "    concat['msno_%d_after_cnt'%window_size] = msno_after_cnt\n",
    "    concat['song_%d_after_cnt'%window_size] = song_after_cnt\n",
    "    \n",
    "    print('Window size for %d done.'%window_size)\n",
    "\n",
    "# 统计当前用户和当前歌曲，相同的样本数\n",
    "msno_dict = defaultdict(lambda: 0)\n",
    "song_dict = defaultdict(lambda: 0)\n",
    "\n",
    "msno_till_now_cnt = np.zeros(len(concat))\n",
    "song_till_now_cnt = np.zeros(len(concat))\n",
    "for i in range(len(concat)):\n",
    "    msno_till_now_cnt[i] = msno_dict[msno_list[i]]\n",
    "    msno_dict[msno_list[i]] += 1\n",
    "    \n",
    "    song_till_now_cnt[i] = song_dict[song_list[i]]\n",
    "    song_dict[song_list[i]] += 1\n",
    "\n",
    "concat['msno_till_now_cnt'] = msno_till_now_cnt\n",
    "concat['song_till_now_cnt'] = song_till_now_cnt\n",
    "\n",
    "print('Till-now count done.')"
   ]
  },
  {
   "cell_type": "markdown",
   "metadata": {},
   "source": [
    "## 3. 添加新特征，数据集中每个样本所处的相对时间点"
   ]
  },
  {
   "cell_type": "code",
   "execution_count": null,
   "metadata": {},
   "outputs": [],
   "source": [
    "time.asctime(time.localtime(1484236800.0))"
   ]
  },
  {
   "cell_type": "code",
   "execution_count": null,
   "metadata": {},
   "outputs": [],
   "source": [
    "time.asctime(time.localtime(1471190400.0))"
   ]
  },
  {
   "cell_type": "code",
   "execution_count": null,
   "metadata": {},
   "outputs": [],
   "source": [
    "# 计算当前记录所处的相对时间点\n",
    "def timestamp_map(x):\n",
    "    x = (x - 0.0) / (7377417.0 - 0.0) * (1484236800.0 - 1471190400.0) + 1471190400.0\n",
    "    return x\n",
    "    \n",
    "concat['timestamp'] = concat['timestamp'].apply(timestamp_map)\n",
    "\n",
    "# 增加新特征，每个用户收听歌曲的时间点的平均值\n",
    "msno_mean = concat.groupby(by='msno').mean()['timestamp'].to_dict()\n",
    "members['msno_timestamp_mean'] = members['msno'].apply(lambda x: msno_mean[x])\n",
    "\n",
    "# 增加新特征，每个用户收听歌曲的时间点的标准差。值越大说明用户收听的跨度越大\n",
    "msno_std = concat.groupby(by='msno').std()['timestamp'].to_dict()\n",
    "members['msno_timestamp_std'] = members['msno'].apply(lambda x: msno_std[x])\n",
    "\n",
    "# 增加新特征，每首歌被收听的时间点的平均值\n",
    "song_mean = concat.groupby(by='song_id').mean()['timestamp'].to_dict()\n",
    "songs['song_timestamp_mean'] = songs['song_id'].apply(lambda x: song_mean[x])\n",
    "\n",
    "# 增加新特征，每首歌被收听时间点的标准差。值越大，说明歌曲被收听的时间跨度大\n",
    "song_std = concat.groupby(by='song_id').std()['timestamp'].to_dict()\n",
    "songs['song_timestamp_std'] = songs['song_id'].apply(lambda x: song_std[x])\n",
    "\n",
    "print('Timestamp done.')\n",
    "\n",
    "features = ['msno_till_now_cnt', 'song_till_now_cnt']\n",
    "for window_size in window_sizes:\n",
    "    features += ['msno_%d_before_cnt'%window_size, 'song_%d_before_cnt'%window_size, \\\n",
    "            'msno_%d_after_cnt'%window_size, 'song_%d_after_cnt'%window_size]\n",
    "for feat in features:\n",
    "    concat[feat] = np.log1p(concat[feat])\n",
    "\n",
    "# 得到增加特征后的训练集和测试集\n",
    "features = ['timestamp'] + features\n",
    "data = concat[features].values\n",
    "\n",
    "for i in range(len(features)):\n",
    "    train[features[i]] = data[:len(train), i]\n",
    "    test[features[i]] = data[len(train):, i]\n",
    "    \n",
    "# 保存中间结果\n",
    "train.to_csv('./music_val/train_svd_timestamp.csv', index=False)\n",
    "test.to_csv('./music_val/test_svd_timestamp.csv', index=False)\n",
    "members.to_csv('./music_val/members_svd_timestamp.csv', index=False)\n",
    "songs.to_csv('./music_val/songs_svd_timestamp.csv', index=False)\n"
   ]
  },
  {
   "cell_type": "code",
   "execution_count": null,
   "metadata": {},
   "outputs": [],
   "source": [
    "train.shape + test.shape + members.shape + songs.shape"
   ]
  },
  {
   "cell_type": "markdown",
   "metadata": {},
   "source": [
    "## 4. 填补歌曲缺失值"
   ]
  },
  {
   "cell_type": "code",
   "execution_count": null,
   "metadata": {},
   "outputs": [],
   "source": [
    "import gc\n",
    "import math\n",
    "import time\n",
    "import numpy as np\n",
    "import pandas as pd\n",
    "import matplotlib.pyplot as plt\n",
    "%matplotlib inline\n",
    "from sklearn.metrics import roc_auc_score\n",
    "\n",
    "train = pd.read_csv('./music_val/train_svd_timestamp.csv')\n",
    "test = pd.read_csv('./music_val/test_svd_timestamp.csv')\n",
    "members = pd.read_csv('./music_val/members_svd_timestamp.csv')\n",
    "songs = pd.read_csv('./music_val/songs_svd_timestamp.csv')"
   ]
  },
  {
   "cell_type": "code",
   "execution_count": null,
   "metadata": {},
   "outputs": [],
   "source": [
    "columns = ['composer', 'lyricist', 'language', 'first_genre_id', 'second_genre_id', 'third_genre_id','isrc_missing']\n",
    "for col in columns:\n",
    "    songs[col].fillna(0, inplace=True)\n",
    "    songs[col] = songs[col].astype(int)\n",
    "songs['artist_name'].fillna(np.max(songs['artist_name'])+1, inplace=True)\n",
    "songs['artist_name'] = songs['artist_name'].astype(int)\n",
    "\n",
    "songs['song_id_missing'] = np.isnan(songs['song_length'].values) * 1\n",
    "\n",
    "columns = ['song_length', 'genre_id_cnt', 'artist_song_cnt', 'composer_song_cnt', \\\n",
    "       'lyricist_song_cnt', 'genre_song_cnt', 'song_rec_cnt', \\\n",
    "       'artist_rec_cnt', 'composer_rec_cnt', 'lyricist_rec_cnt', \\\n",
    "       'genre_rec_cnt','cn','xxx','year', 'cn_song_cnt', \\\n",
    "       'xxx_song_cnt', 'year_song_cnt', 'cn_rec_cnt', 'xxx_rec_cnt', \\\n",
    "       'year_rec_cnt', 'song_timestamp_std', 'artist_cnt', 'lyricist_cnt', \\\n",
    "       'composer_cnt', 'is_featured'] + ['artist_component_%d'%i for i in range(16)]\n",
    "for col in columns:\n",
    "    songs[col].fillna(np.nanmean(songs[col]), inplace=True)\n",
    "\n",
    "\n",
    "# 生成最终的歌曲信息表\n",
    "songs.to_csv('./music_val/songs_val_nn.csv', index=False)"
   ]
  },
  {
   "cell_type": "markdown",
   "metadata": {},
   "source": [
    "## 5. 增加用户特征"
   ]
  },
  {
   "cell_type": "code",
   "execution_count": null,
   "metadata": {},
   "outputs": [],
   "source": [
    "# members_origin = pd.read_csv('../source/members.csv')\n",
    "# members['registration_init_time'] = members_origin['registration_init_time'].values\n",
    "# members['expiration_date'] = members_origin['registration_init_time'].values\n",
    "\n",
    "# members['registration_init_time'] = members['registration_init_time'].apply(lambda x: \\\n",
    "#         time.mktime(time.strptime(str(x),'%Y%m%d')))\n",
    "# members['expiration_date'] = members['expiration_date'].apply(lambda x: \\\n",
    "#         time.mktime(time.strptime(str(x),'%Y%m%d')))"
   ]
  },
  {
   "cell_type": "code",
   "execution_count": null,
   "metadata": {},
   "outputs": [],
   "source": [
    "members['msno_timestamp_std'].fillna(np.nanmin(members['msno_timestamp_std']), inplace=True)\n",
    "\n",
    "concat = train[['msno', 'song_id', 'source_system_tab', 'source_screen_name', \\\n",
    "        'source_type']].append(test[['msno', 'song_id', 'source_system_tab', \\\n",
    "        'source_screen_name', 'source_type']])\n",
    "concat = concat.merge(songs[['song_id', 'song_length', 'artist_name', 'first_genre_id', \\\n",
    "        'artist_rec_cnt', 'song_rec_cnt', 'artist_song_cnt', 'xxx', 'year', \\\n",
    "        'language']], on='song_id', how='left')\n",
    "\n",
    "concat['source'] = concat['source_system_tab'] * 10000 + concat['source_screen_name'] * 100 + \\\n",
    "        concat['source_type']\n",
    "from sklearn.preprocessing import LabelEncoder\n",
    "concat['source'] = LabelEncoder().fit_transform(concat['source'].values)\n",
    "\n",
    "# member features\n",
    "# 计算msno所属的song_length等数据的均值\n",
    "# song_length mean: 某个用户听过的所有歌曲长度的平均值\n",
    "# artist_song_cnt：某个用户听过的所有歌手活跃度的均值，活跃度指的是唱过的歌曲数目\n",
    "# artist_rec_cnt：某个用户听过的所有歌手的热度的均值，热度指的是一个歌手被多少用户收听过\n",
    "# song_rec_cnt： 某个用户听过的所有歌曲的热度的均值，热度指的是一个歌曲被多少用户收听过\n",
    "\n",
    "mem_add = pd.DataFrame({'msno': range(concat['msno'].max()+1)})\n",
    "data_avg = concat[['msno', 'song_length', 'artist_song_cnt', \\\n",
    "        'artist_rec_cnt', 'song_rec_cnt', 'year']].groupby('msno').mean()\n",
    "data_avg.columns = ['msno_'+i+'_mean' for i in data_avg.columns]\n",
    "# data_avg['msno'] = data_avg.index.values\n",
    "data_avg.reset_index()\n",
    "members = members.merge(data_avg, on='msno', how='left')\n",
    "\n",
    "#计算msno所属的song_length等数据的标准差\n",
    "# artist_song_cnt 方差小代表了用户的喜欢的歌手的活跃度很单一，方差大代表了用户喜欢分布很广\n",
    "# artist_rec_cnt \n",
    "# song_rec_cnt\n",
    "# year\n",
    "\n",
    "data_std = concat[['msno', 'song_length', 'artist_song_cnt', \\\n",
    "        'artist_rec_cnt', 'song_rec_cnt', 'year']].groupby('msno').std()\n",
    "data_std.columns = ['msno_'+i+'_std' for i in data_std.columns]\n",
    "# data_std['msno'] = data_std.index.values\n",
    "data_std.reset_index()\n",
    "members = members.merge(data_std, on='msno', how='left')\n",
    "\n",
    "#计算msno所属的不同artist_name的个数\n",
    "按msno分类，统计每个用户听过的歌手个数\n",
    "artist_msno = concat[['msno', 'artist_name']].groupby('msno').apply(lambda x: len(set(x['artist_name'].values)))\n",
    "mem_add['artist_msno_cnt'] = artist_msno\n",
    "mem_add['artist_msno_cnt'] = np.log1p(mem_add['artist_msno_cnt'])\n",
    "\n",
    "#计算用户所属的language中不同取值的概率\n",
    "language_dummy = pd.get_dummies(concat['language'])\n",
    "language_dummy['msno'] = concat['msno'].values\n",
    "language_prob = language_dummy.groupby('msno').mean()\n",
    "language_prob.columns = ['msno_language_%d'%i for i in language_prob.columns]\n",
    "# language_prob['msno'] = language_prob.index\n",
    "language_prob.reset_index()\n",
    "members = members.merge(language_prob, on='msno', how='left')\n",
    "\n",
    "# 生成最终用户信息表\n",
    "members.to_csv('./music_val/members_val_nn.csv', index=False)"
   ]
  },
  {
   "cell_type": "markdown",
   "metadata": {},
   "source": [
    "# 7. 增加交叉性特征"
   ]
  },
  {
   "cell_type": "code",
   "execution_count": null,
   "metadata": {},
   "outputs": [],
   "source": [
    "# 一些歌曲属性\n",
    "col = ['artist_name', 'first_genre_id', 'xxx', 'language', 'year', 'source']\n",
    "\n",
    "# 统计msno-artist_name， msno-first_genre_id, msno-xxx,msno-language, msno-year, msno-source数据对在数据集中的出现次数\n",
    "for feat in col:\n",
    "    concat['id'] = concat['msno'] * 100000 + concat[feat]\n",
    "    id_cnt = concat[['msno', 'id']].groupby('id').count().to_dict()['msno']\n",
    "    concat['msno_'+feat+'_cnt'] = concat['id'].apply(lambda x: id_cnt[x])\n",
    "\n",
    "# 统计这些数据对在每个用户收听过的总歌曲里的概率，即出现次数/每个用户收听过的歌曲总数\n",
    "msno_cnt = concat[['msno', 'song_id']].groupby('msno').count().to_dict()['song_id']\n",
    "concat['msno_cnt'] = concat['msno'].apply(lambda x: msno_cnt[x])\n",
    "for feat in col:\n",
    "    concat['msno_'+feat+'_prob'] = concat['msno_'+feat+'_cnt'] / concat['msno_cnt']\n",
    "\n",
    "# 统计song_id-source_system_tab，song_id-source_screen_name, song_id-source_type数据对在数据集中的出现次数\n",
    "cols = ['source_system_tab', 'source_screen_name', 'source_type']\n",
    "for col in cols:\n",
    "    concat['id'] = concat['song_id'] * 10000 + concat[col]\n",
    "    id_cnt = concat[['msno', 'id']].groupby('id').count().to_dict()['msno']\n",
    "    concat['song_'+col+'_cnt'] = concat['id'].apply(lambda x: id_cnt[x])\n",
    "\n",
    "# 统计每首歌曲被收听的用户总数\n",
    "song_cnt = concat[['msno', 'song_id']].groupby('song_id').count().to_dict()['msno']\n",
    "concat['song_cnt'] = concat['song_id'].apply(lambda x: song_cnt[x])\n",
    "\n",
    "# 统计数据对在每首歌曲被收听的用户总数的概率，即出现次数/每首歌曲被收听的用户总数\n",
    "for col in cols:\n",
    "    concat['song_'+col+'_prob'] = concat['song_'+col+'_cnt'] / concat['song_cnt']\n",
    "\n",
    "result = concat[['msno_artist_name_prob', 'msno_first_genre_id_prob', 'msno_xxx_prob', \\\n",
    "        'msno_language_prob', 'msno_year_prob', 'song_source_system_tab_prob', \\\n",
    "        'song_source_screen_name_prob', 'song_source_type_prob', 'source', 'msno_source_prob']]\n",
    "\n",
    "result['source'] = result['source'].astype('category')\n",
    "\n",
    "for col in result.columns:\n",
    "    train[col] = result[col].values[:len(train)]\n",
    "    test[col] = result[col].values[len(train):]"
   ]
  },
  {
   "cell_type": "code",
   "execution_count": null,
   "metadata": {},
   "outputs": [],
   "source": [
    "train['artist_embeddings_dot'].fillna(train['artist_embeddings_dot'].mean(), inplace=True)\n",
    "test['artist_embeddings_dot'].fillna(test['artist_embeddings_dot'].mean(), inplace=True)\n",
    "    \n",
    "# 生成最后训练集和验证集/测试集\n",
    "train.to_csv('./music_val/train_val_nn.csv', index=False)\n",
    "test.to_csv('./music_val/test_val_nn.csv', index=False)   "
   ]
  },
  {
   "cell_type": "code",
   "execution_count": null,
   "metadata": {},
   "outputs": [],
   "source": []
  },
  {
   "cell_type": "code",
   "execution_count": null,
   "metadata": {},
   "outputs": [],
   "source": []
  }
 ],
 "metadata": {
  "kernelspec": {
   "display_name": "Python 3",
   "language": "python",
   "name": "python3"
  },
  "language_info": {
   "codemirror_mode": {
    "name": "ipython",
    "version": 3
   },
   "file_extension": ".py",
   "mimetype": "text/x-python",
   "name": "python",
   "nbconvert_exporter": "python",
   "pygments_lexer": "ipython3",
   "version": "3.7.4"
  }
 },
 "nbformat": 4,
 "nbformat_minor": 1
}
