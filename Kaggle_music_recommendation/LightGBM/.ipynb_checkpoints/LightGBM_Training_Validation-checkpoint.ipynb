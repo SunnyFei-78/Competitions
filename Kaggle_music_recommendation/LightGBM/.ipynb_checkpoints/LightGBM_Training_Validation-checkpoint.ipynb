{
 "cells": [
  {
   "cell_type": "markdown",
   "metadata": {},
   "source": [
    "# LightGBM模型参数调优\n",
    "\n",
    "1. 特征维数227时，使用lightGBM模型训练，验证集上AUC最高分数是0.75893。预测的测试集分数提交到Kaggle上public排名在第88名左右。\n",
    "2. 增加了特征（296维度）验证集上最好的AUC是0.76644。最后用此组参数训练模型，预测测试集, Kaggle上public排名进步很多。"
   ]
  },
  {
   "cell_type": "markdown",
   "metadata": {},
   "source": [
    "## 读取训练集和验证集"
   ]
  },
  {
   "cell_type": "code",
   "execution_count": 1,
   "metadata": {},
   "outputs": [],
   "source": [
    "import sys\n",
    "sys.path.append('/home/aistudio/package')\n",
    "\n",
    "import gc\n",
    "import math\n",
    "import datetime\n",
    "import numpy as np\n",
    "import pandas as pd\n",
    "import matplotlib.pyplot as plt\n",
    "%matplotlib inline\n",
    "from sklearn.metrics import roc_auc_score\n",
    "import lightgbm as lgbm\n",
    "\n",
    "train_all = pd.read_csv('./music_val/train_val_nn.csv')\n",
    "test_all = pd.read_csv('./music_val/test_val_nn.csv')\n",
    "members = pd.read_csv('./music_val/members_val_nn.csv')\n",
    "songs = pd.read_csv('./music_val/songs_val_nn.csv')"
   ]
  },
  {
   "cell_type": "code",
   "execution_count": 2,
   "metadata": {},
   "outputs": [
    {
     "data": {
      "text/plain": [
       "(5901935, 48, 1475483, 48, 30755, 142, 359966, 102)"
      ]
     },
     "execution_count": 2,
     "metadata": {},
     "output_type": "execute_result"
    }
   ],
   "source": [
    "train_all.shape + test_all.shape + members.shape + songs.shape"
   ]
  },
  {
   "cell_type": "code",
   "execution_count": null,
   "metadata": {},
   "outputs": [],
   "source": [
    "pd.set_option('display.max_columns', None)\n",
    "pd.set_option('display.width', None)\n",
    "pd.set_option('display.max_rows', None)"
   ]
  },
  {
   "cell_type": "code",
   "execution_count": null,
   "metadata": {},
   "outputs": [],
   "source": [
    "columns = ['msno_song_length_std', 'msno_artist_song_cnt_std','msno_artist_rec_cnt_std',\\\n",
    "        'msno_song_rec_cnt_std','msno_year_std']\n",
    "for col in columns:\n",
    "    members[col].fillna(np.nanmin(members[col]), inplace=True)\n",
    "\n",
    "members.to_csv('./music_val/members_val_nn.csv', index=False)"
   ]
  },
  {
   "cell_type": "markdown",
   "metadata": {},
   "source": [
    "## 1. 分别取50%训练集和验证集数据(各约300万数据)"
   ]
  },
  {
   "cell_type": "code",
   "execution_count": 3,
   "metadata": {},
   "outputs": [
    {
     "name": "stderr",
     "output_type": "stream",
     "text": [
      "/opt/conda/envs/python35-paddle120-env/lib/python3.7/site-packages/pandas/core/frame.py:3697: SettingWithCopyWarning: \n",
      "A value is trying to be set on a copy of a slice from a DataFrame\n",
      "\n",
      "See the caveats in the documentation: http://pandas.pydata.org/pandas-docs/stable/indexing.html#indexing-view-versus-copy\n",
      "  errors=errors)\n"
     ]
    }
   ],
   "source": [
    "train = train_all[math.ceil(train_all.shape[0]*0.5):]\n",
    "test = test_all[0: math.ceil(train_all.shape[0] * 0.5)]\n",
    "\n",
    "train_y = train['target']\n",
    "train.drop(['target'], inplace=True, axis=1)\n",
    "\n",
    "test_y = test['target']\n",
    "test.drop(['target'], inplace=True, axis=1)\n",
    "\n",
    "train = train.merge(members, on='msno', how='left')\n",
    "test = test.merge(members, on='msno', how='left')\n",
    "train = train.merge(songs, on='song_id', how='left')\n",
    "test = test.merge(songs, on='song_id', how='left')"
   ]
  },
  {
   "cell_type": "code",
   "execution_count": 4,
   "metadata": {},
   "outputs": [
    {
     "name": "stdout",
     "output_type": "stream",
     "text": [
      "All data loaded.\n"
     ]
    }
   ],
   "source": [
    "# 用户会员已经用了多长时间\n",
    "train['time_spent'] = train['timestamp'] - train['registration_init_time']\n",
    "test['time_spent'] = test['timestamp'] - test['registration_init_time']\n",
    "\n",
    "# 用户会员还剩多长时间 \n",
    "train['time_left'] = train['expiration_date'] - train['timestamp']\n",
    "test['time_left'] = test['expiration_date'] - test['timestamp']\n",
    "\n",
    "# 用户收听歌曲所处的时间点均值左右一个标准差为大概率事件\n",
    "train['msno_upper_time'] = train['msno_timestamp_mean'] + train['msno_timestamp_std']\n",
    "test['msno_upper_time'] = test['msno_timestamp_mean'] + test['msno_timestamp_std']\n",
    "\n",
    "train['msno_lower_time'] = train['msno_timestamp_mean'] - train['msno_timestamp_std']\n",
    "test['msno_lower_time'] = test['msno_timestamp_mean'] - test['msno_timestamp_std']\n",
    "\n",
    "# 歌曲被收听所处的时间点均值左右一个标准差为大概率事件\n",
    "train['song_upper_time'] = train['song_timestamp_mean'] + train['song_timestamp_std']\n",
    "test['song_upper_time'] = test['song_timestamp_mean'] + test['song_timestamp_std']\n",
    "\n",
    "train['song_lower_time'] = train['song_timestamp_mean'] - train['song_timestamp_std']\n",
    "test['song_lower_time'] = test['song_timestamp_mean'] - test['song_timestamp_std']\n",
    "\n",
    "del members\n",
    "del songs\n",
    "gc.collect()\n",
    "print('All data loaded.')\n",
    "\n",
    "train_data = lgbm.Dataset(train, label=train_y, free_raw_data=True)\n",
    "test_data = lgbm.Dataset(test, label=test_y, free_raw_data=True)"
   ]
  },
  {
   "cell_type": "code",
   "execution_count": 5,
   "metadata": {},
   "outputs": [
    {
     "data": {
      "text/plain": [
       "(2950967, 295, 1475483, 295)"
      ]
     },
     "execution_count": 5,
     "metadata": {},
     "output_type": "execute_result"
    }
   ],
   "source": [
    "train.shape + test.shape"
   ]
  },
  {
   "cell_type": "markdown",
   "metadata": {},
   "source": [
    "## 1. LightGBM\n"
   ]
  },
  {
   "cell_type": "markdown",
   "metadata": {},
   "source": [
    "### 1）max_depth= 10，num_leaves=220,  lambda_l2: 500,  5000轮 （50%的数据量）"
   ]
  },
  {
   "cell_type": "code",
   "execution_count": null,
   "metadata": {},
   "outputs": [
    {
     "name": "stdout",
     "output_type": "stream",
     "text": [
      "Hyper-parameters:\n",
      "{'boosting_type': 'gbdt', 'objective': 'binary', 'metric': ['binary_logloss', 'auc'], 'learning_rate': 0.1, 'num_leaves': 220, 'max_depth': 10, 'min_data_in_leaf': 100, 'feature_fraction': 0.8, 'bagging_fraction': 0.9, 'bagging_freq': 1, 'lambda_l1': 5, 'lambda_l2': 500, 'min_gain_to_split': 0, 'min_sum_hessian_in_leaf': 0.1, 'num_threads': 16, 'verbose': 0, 'is_training_metric': 'True'}\n",
      "Training until validation scores don't improve for 1000 rounds\n",
      "[100]\ttrain's binary_logloss: 0.529797\ttrain's auc: 0.807887\tvalid's binary_logloss: 0.56694\tvalid's auc: 0.75286\n",
      "[200]\ttrain's binary_logloss: 0.50722\ttrain's auc: 0.828457\tvalid's binary_logloss: 0.561513\tvalid's auc: 0.75919\n",
      "[300]\ttrain's binary_logloss: 0.49235\ttrain's auc: 0.841179\tvalid's binary_logloss: 0.559564\tvalid's auc: 0.761839\n",
      "[400]\ttrain's binary_logloss: 0.480129\ttrain's auc: 0.851143\tvalid's binary_logloss: 0.558569\tvalid's auc: 0.763357\n",
      "[500]\ttrain's binary_logloss: 0.469881\ttrain's auc: 0.859204\tvalid's binary_logloss: 0.558158\tvalid's auc: 0.764269\n",
      "[600]\ttrain's binary_logloss: 0.461029\ttrain's auc: 0.865918\tvalid's binary_logloss: 0.558021\tvalid's auc: 0.7649\n",
      "[700]\ttrain's binary_logloss: 0.453337\ttrain's auc: 0.871613\tvalid's binary_logloss: 0.558005\tvalid's auc: 0.76536\n",
      "[800]\ttrain's binary_logloss: 0.446004\ttrain's auc: 0.876901\tvalid's binary_logloss: 0.558316\tvalid's auc: 0.765502\n",
      "[900]\ttrain's binary_logloss: 0.43934\ttrain's auc: 0.88164\tvalid's binary_logloss: 0.558585\tvalid's auc: 0.76567\n",
      "[1000]\ttrain's binary_logloss: 0.432956\ttrain's auc: 0.886116\tvalid's binary_logloss: 0.559038\tvalid's auc: 0.765646\n",
      "[1100]\ttrain's binary_logloss: 0.427067\ttrain's auc: 0.890115\tvalid's binary_logloss: 0.55939\tvalid's auc: 0.765676\n",
      "[1200]\ttrain's binary_logloss: 0.421434\ttrain's auc: 0.893907\tvalid's binary_logloss: 0.559853\tvalid's auc: 0.765621\n",
      "[1300]\ttrain's binary_logloss: 0.416144\ttrain's auc: 0.897388\tvalid's binary_logloss: 0.560298\tvalid's auc: 0.765622\n",
      "[1400]\ttrain's binary_logloss: 0.410945\ttrain's auc: 0.900823\tvalid's binary_logloss: 0.560699\tvalid's auc: 0.76561\n",
      "[1500]\ttrain's binary_logloss: 0.405782\ttrain's auc: 0.904118\tvalid's binary_logloss: 0.561296\tvalid's auc: 0.765462\n",
      "[1600]\ttrain's binary_logloss: 0.401003\ttrain's auc: 0.90714\tvalid's binary_logloss: 0.561743\tvalid's auc: 0.765395\n",
      "Early stopping, best iteration is:\n",
      "[650]\ttrain's binary_logloss: 0.457016\ttrain's auc: 0.868879\tvalid's binary_logloss: 0.557931\tvalid's auc: 0.765237\n",
      "Best Round: 924\n",
      "Training loss: 0.43770, Validation loss: 0.55861\n",
      "Training AUC : 0.88279, Validation AUC : 0.76575\n"
     ]
    }
   ],
   "source": [
    "params = {\n",
    "    'boosting_type': 'gbdt',\n",
    "    'objective': 'binary',\n",
    "    'metric': ['binary_logloss', 'auc'],  \n",
    "\n",
    "    'learning_rate': 0.1,       \n",
    "    'num_leaves': 220,\n",
    "    'max_depth': 10,\n",
    "    'min_data_in_leaf': 100,     \n",
    "    'feature_fraction': 0.8,\n",
    "    'bagging_fraction': 0.9,\n",
    "    'bagging_freq': 1,  \n",
    "    'lambda_l1': 5,\n",
    "    'lambda_l2': 500,\n",
    "    'min_gain_to_split': 0,\n",
    "    'min_sum_hessian_in_leaf': 0.1,\n",
    "\n",
    "    'num_threads': 16,\n",
    "    'verbose': 0,\n",
    "    'is_training_metric': 'True'\n",
    "}\n",
    "print('Hyper-parameters:')\n",
    "print(params)\n",
    "\n",
    "MAX_ROUNDS = 5000\n",
    "evals_result = {}\n",
    "\n",
    "gbm = lgbm.train(params, train_data, num_boost_round=MAX_ROUNDS, valid_sets=[train_data, test_data], valid_names = ['train', 'valid'],\n",
    "                 evals_result=evals_result, early_stopping_rounds=1000, verbose_eval=100)\n",
    "\n",
    "bst_round = np.argmax(evals_result['valid']['auc'])\n",
    "trn_auc = evals_result['train']['auc'][bst_round]\n",
    "trn_loss = evals_result['train']['binary_logloss'][bst_round]\n",
    "val_auc = evals_result['valid']['auc'][bst_round]\n",
    "val_loss = evals_result['valid']['binary_logloss'][bst_round]\n",
    "\n",
    "print('Best Round: %d'%bst_round)\n",
    "print('Training loss: %.5f, Validation loss: %.5f'%(trn_loss, val_loss))\n",
    "print('Training AUC : %.5f, Validation AUC : %.5f'%(trn_auc, val_auc))\n"
   ]
  },
  {
   "cell_type": "markdown",
   "metadata": {},
   "source": [
    "本组参数下，验证集AUC最高是0.76575。但是从第1000轮开始验证集的AUC开始下降，而训练集的AUC还在上升。这种情况应该是过拟合了，需要重新调整参数。"
   ]
  },
  {
   "cell_type": "markdown",
   "metadata": {},
   "source": [
    "### 2）增大正则项系数     'lambda_l2'=1000"
   ]
  },
  {
   "cell_type": "code",
   "execution_count": null,
   "metadata": {},
   "outputs": [
    {
     "name": "stdout",
     "output_type": "stream",
     "text": [
      "Hyper-parameters:\n",
      "{'boosting_type': 'gbdt', 'objective': 'binary', 'metric': ['binary_logloss', 'auc'], 'learning_rate': 0.1, 'num_leaves': 220, 'max_depth': 10, 'min_data_in_leaf': 100, 'feature_fraction': 0.8, 'bagging_fraction': 0.9, 'bagging_freq': 1, 'lambda_l1': 6, 'lambda_l2': 1000, 'min_gain_to_split': 0, 'min_sum_hessian_in_leaf': 0.1, 'num_threads': 16, 'verbose': 0, 'is_training_metric': 'True'}\n",
      "Training until validation scores don't improve for 1000 rounds\n",
      "[100]\ttrain's binary_logloss: 0.535213\ttrain's auc: 0.802409\tvalid's binary_logloss: 0.568209\tvalid's auc: 0.751323\n",
      "[200]\ttrain's binary_logloss: 0.513969\ttrain's auc: 0.822157\tvalid's binary_logloss: 0.562619\tvalid's auc: 0.757863\n",
      "[300]\ttrain's binary_logloss: 0.499304\ttrain's auc: 0.83511\tvalid's binary_logloss: 0.560137\tvalid's auc: 0.76088\n",
      "[400]\ttrain's binary_logloss: 0.488041\ttrain's auc: 0.844527\tvalid's binary_logloss: 0.558925\tvalid's auc: 0.76257\n",
      "[500]\ttrain's binary_logloss: 0.478256\ttrain's auc: 0.852441\tvalid's binary_logloss: 0.558283\tvalid's auc: 0.763645\n",
      "[600]\ttrain's binary_logloss: 0.470093\ttrain's auc: 0.858842\tvalid's binary_logloss: 0.557793\tvalid's auc: 0.764553\n",
      "[700]\ttrain's binary_logloss: 0.462882\ttrain's auc: 0.864346\tvalid's binary_logloss: 0.557682\tvalid's auc: 0.765073\n",
      "[800]\ttrain's binary_logloss: 0.455769\ttrain's auc: 0.869661\tvalid's binary_logloss: 0.557819\tvalid's auc: 0.765398\n",
      "[900]\ttrain's binary_logloss: 0.449665\ttrain's auc: 0.874144\tvalid's binary_logloss: 0.557926\tvalid's auc: 0.76565\n",
      "[1000]\ttrain's binary_logloss: 0.443717\ttrain's auc: 0.878416\tvalid's binary_logloss: 0.558121\tvalid's auc: 0.765834\n",
      "[1100]\ttrain's binary_logloss: 0.438049\ttrain's auc: 0.882418\tvalid's binary_logloss: 0.558446\tvalid's auc: 0.765879\n",
      "[1200]\ttrain's binary_logloss: 0.432691\ttrain's auc: 0.886138\tvalid's binary_logloss: 0.558711\tvalid's auc: 0.76595\n",
      "[1300]\ttrain's binary_logloss: 0.427728\ttrain's auc: 0.889541\tvalid's binary_logloss: 0.559074\tvalid's auc: 0.765973\n",
      "[1400]\ttrain's binary_logloss: 0.422747\ttrain's auc: 0.892906\tvalid's binary_logloss: 0.559455\tvalid's auc: 0.766001\n",
      "[1500]\ttrain's binary_logloss: 0.418114\ttrain's auc: 0.895978\tvalid's binary_logloss: 0.559856\tvalid's auc: 0.765983\n",
      "[1600]\ttrain's binary_logloss: 0.413563\ttrain's auc: 0.898965\tvalid's binary_logloss: 0.560239\tvalid's auc: 0.765991\n",
      "Early stopping, best iteration is:\n",
      "[632]\ttrain's binary_logloss: 0.467731\ttrain's auc: 0.860657\tvalid's binary_logloss: 0.55766\tvalid's auc: 0.764819\n",
      "Best Round: 1419\n",
      "Training loss: 0.42185, Validation loss: 0.55950\n",
      "Training AUC : 0.89350, Validation AUC : 0.76603\n"
     ]
    }
   ],
   "source": [
    "params = {\n",
    "    'boosting_type': 'gbdt',\n",
    "    'objective': 'binary',\n",
    "    'metric': ['binary_logloss', 'auc'],  \n",
    "\n",
    "    'learning_rate': 0.1,       \n",
    "    'num_leaves': 220,\n",
    "    'max_depth': 10,\n",
    "    'min_data_in_leaf': 100,     \n",
    "    'feature_fraction': 0.8,\n",
    "    'bagging_fraction': 0.9,\n",
    "    'bagging_freq': 1,  \n",
    "    'lambda_l1': 6,\n",
    "    'lambda_l2': 1000,\n",
    "    'min_gain_to_split': 0,\n",
    "    'min_sum_hessian_in_leaf': 0.1,\n",
    "\n",
    "    'num_threads': 16,\n",
    "    'verbose': 0,\n",
    "    'is_training_metric': 'True'\n",
    "}\n",
    "print('Hyper-parameters:')\n",
    "print(params)\n",
    "\n",
    "MAX_ROUNDS = 5000\n",
    "evals_result = {}\n",
    "\n",
    "gbm = lgbm.train(params, train_data, num_boost_round=MAX_ROUNDS, valid_sets=[train_data, test_data], valid_names = ['train', 'valid'],\n",
    "                 evals_result=evals_result, early_stopping_rounds=1000, verbose_eval=100)\n",
    "\n",
    "bst_round = np.argmax(evals_result['valid']['auc'])\n",
    "trn_auc = evals_result['train']['auc'][bst_round]\n",
    "trn_loss = evals_result['train']['binary_logloss'][bst_round]\n",
    "val_auc = evals_result['valid']['auc'][bst_round]\n",
    "val_loss = evals_result['valid']['binary_logloss'][bst_round]\n",
    "\n",
    "print('Best Round: %d'%bst_round)\n",
    "print('Training loss: %.5f, Validation loss: %.5f'%(trn_loss, val_loss))\n",
    "print('Training AUC : %.5f, Validation AUC : %.5f'%(trn_auc, val_auc))\n"
   ]
  },
  {
   "cell_type": "markdown",
   "metadata": {},
   "source": [
    "本组参数下，最好的验证集上AUC为0.76603，从过程看到第1500轮的时候验证集的AUC在下降，所以过拟合了，继续调整参数"
   ]
  },
  {
   "cell_type": "markdown",
   "metadata": {},
   "source": [
    "### 6）增大正则项系数     'lambda_l2'=2000"
   ]
  },
  {
   "cell_type": "code",
   "execution_count": null,
   "metadata": {},
   "outputs": [
    {
     "name": "stdout",
     "output_type": "stream",
     "text": [
      "Hyper-parameters:\n",
      "{'boosting_type': 'gbdt', 'objective': 'binary', 'metric': ['binary_logloss', 'auc'], 'learning_rate': 0.1, 'num_leaves': 220, 'max_depth': 10, 'min_data_in_leaf': 100, 'feature_fraction': 0.8, 'bagging_fraction': 0.9, 'bagging_freq': 1, 'lambda_l1': 6, 'lambda_l2': 2000, 'min_gain_to_split': 0, 'min_sum_hessian_in_leaf': 0.1, 'num_threads': 16, 'verbose': 0, 'is_training_metric': 'True'}\n",
      "Training until validation scores don't improve for 1000 rounds\n",
      "[100]\ttrain's binary_logloss: 0.540276\ttrain's auc: 0.797417\tvalid's binary_logloss: 0.570143\tvalid's auc: 0.749337\n",
      "[200]\ttrain's binary_logloss: 0.520839\ttrain's auc: 0.81565\tvalid's binary_logloss: 0.563911\tvalid's auc: 0.756469\n",
      "[300]\ttrain's binary_logloss: 0.507233\ttrain's auc: 0.827944\tvalid's binary_logloss: 0.561039\tvalid's auc: 0.759849\n",
      "[400]\ttrain's binary_logloss: 0.497044\ttrain's auc: 0.836734\tvalid's binary_logloss: 0.559362\tvalid's auc: 0.761883\n",
      "[500]\ttrain's binary_logloss: 0.488199\ttrain's auc: 0.84411\tvalid's binary_logloss: 0.558524\tvalid's auc: 0.763094\n",
      "[600]\ttrain's binary_logloss: 0.480607\ttrain's auc: 0.850347\tvalid's binary_logloss: 0.557892\tvalid's auc: 0.764054\n",
      "[700]\ttrain's binary_logloss: 0.473364\ttrain's auc: 0.856082\tvalid's binary_logloss: 0.557556\tvalid's auc: 0.764703\n",
      "[800]\ttrain's binary_logloss: 0.46726\ttrain's auc: 0.860829\tvalid's binary_logloss: 0.557391\tvalid's auc: 0.765195\n",
      "[900]\ttrain's binary_logloss: 0.461516\ttrain's auc: 0.865201\tvalid's binary_logloss: 0.557339\tvalid's auc: 0.76552\n",
      "[1000]\ttrain's binary_logloss: 0.45582\ttrain's auc: 0.869464\tvalid's binary_logloss: 0.557426\tvalid's auc: 0.765723\n",
      "[1100]\ttrain's binary_logloss: 0.4508\ttrain's auc: 0.873139\tvalid's binary_logloss: 0.557589\tvalid's auc: 0.765831\n",
      "[1200]\ttrain's binary_logloss: 0.445892\ttrain's auc: 0.87668\tvalid's binary_logloss: 0.557795\tvalid's auc: 0.765965\n",
      "[1300]\ttrain's binary_logloss: 0.441298\ttrain's auc: 0.87996\tvalid's binary_logloss: 0.557952\tvalid's auc: 0.766086\n",
      "[1400]\ttrain's binary_logloss: 0.436849\ttrain's auc: 0.883108\tvalid's binary_logloss: 0.558103\tvalid's auc: 0.766186\n",
      "[1500]\ttrain's binary_logloss: 0.432579\ttrain's auc: 0.886107\tvalid's binary_logloss: 0.558309\tvalid's auc: 0.766239\n",
      "[1600]\ttrain's binary_logloss: 0.428461\ttrain's auc: 0.888927\tvalid's binary_logloss: 0.55874\tvalid's auc: 0.766111\n",
      "[1700]\ttrain's binary_logloss: 0.42466\ttrain's auc: 0.891549\tvalid's binary_logloss: 0.559052\tvalid's auc: 0.76604\n",
      "[1800]\ttrain's binary_logloss: 0.420828\ttrain's auc: 0.894104\tvalid's binary_logloss: 0.559274\tvalid's auc: 0.766112\n",
      "Early stopping, best iteration is:\n",
      "[851]\ttrain's binary_logloss: 0.464276\ttrain's auc: 0.863103\tvalid's binary_logloss: 0.557293\tvalid's auc: 0.765417\n",
      "Best Round: 1496\n",
      "Training loss: 0.43273, Validation loss: 0.55830\n",
      "Training AUC : 0.88600, Validation AUC : 0.76625\n"
     ]
    }
   ],
   "source": [
    "params = {\n",
    "    'boosting_type': 'gbdt',\n",
    "    'objective': 'binary',\n",
    "    'metric': ['binary_logloss', 'auc'],  \n",
    "\n",
    "    'learning_rate': 0.1,       \n",
    "    'num_leaves': 220,\n",
    "    'max_depth': 10,\n",
    "    'min_data_in_leaf': 100,     \n",
    "    'feature_fraction': 0.8,\n",
    "    'bagging_fraction': 0.9,\n",
    "    'bagging_freq': 1,  \n",
    "    'lambda_l1': 6,\n",
    "    'lambda_l2': 2000,\n",
    "    'min_gain_to_split': 0,\n",
    "    'min_sum_hessian_in_leaf': 0.1,\n",
    "\n",
    "    'num_threads': 16,\n",
    "    'verbose': 0,\n",
    "    'is_training_metric': 'True'\n",
    "}\n",
    "print('Hyper-parameters:')\n",
    "print(params)\n",
    "\n",
    "MAX_ROUNDS = 5000\n",
    "evals_result = {}\n",
    "\n",
    "gbm = lgbm.train(params, train_data, num_boost_round=MAX_ROUNDS, valid_sets=[train_data, test_data], valid_names = ['train', 'valid'],\n",
    "                 evals_result=evals_result, early_stopping_rounds=1000, verbose_eval=100)\n",
    "\n",
    "bst_round = np.argmax(evals_result['valid']['auc'])\n",
    "trn_auc = evals_result['train']['auc'][bst_round]\n",
    "trn_loss = evals_result['train']['binary_logloss'][bst_round]\n",
    "val_auc = evals_result['valid']['auc'][bst_round]\n",
    "val_loss = evals_result['valid']['binary_logloss'][bst_round]\n",
    "\n",
    "print('Best Round: %d'%bst_round)\n",
    "print('Training loss: %.5f, Validation loss: %.5f'%(trn_loss, val_loss))\n",
    "print('Training AUC : %.5f, Validation AUC : %.5f'%(trn_auc, val_auc))\n"
   ]
  },
  {
   "cell_type": "markdown",
   "metadata": {},
   "source": [
    "本组参数下，最好的验证集上AUC为0.76625，还是处于过拟合状态"
   ]
  },
  {
   "cell_type": "markdown",
   "metadata": {},
   "source": [
    "### 4）'min_data_in_leaf': 500"
   ]
  },
  {
   "cell_type": "code",
   "execution_count": null,
   "metadata": {},
   "outputs": [
    {
     "name": "stdout",
     "output_type": "stream",
     "text": [
      "Hyper-parameters:\n",
      "{'boosting_type': 'gbdt', 'objective': 'binary', 'metric': ['binary_logloss', 'auc'], 'learning_rate': 0.1, 'num_leaves': 220, 'max_depth': 10, 'min_data_in_leaf': 500, 'feature_fraction': 0.8, 'bagging_fraction': 0.9, 'bagging_freq': 1, 'lambda_l1': 6, 'lambda_l2': 2000, 'min_gain_to_split': 0, 'min_sum_hessian_in_leaf': 0.1, 'num_threads': 16, 'verbose': 0, 'is_training_metric': 'True'}\n",
      "Training until validation scores don't improve for 1000 rounds\n",
      "[100]\ttrain's binary_logloss: 0.53991\ttrain's auc: 0.797843\tvalid's binary_logloss: 0.569653\tvalid's auc: 0.749973\n",
      "[200]\ttrain's binary_logloss: 0.520785\ttrain's auc: 0.815733\tvalid's binary_logloss: 0.563846\tvalid's auc: 0.756434\n",
      "[300]\ttrain's binary_logloss: 0.507621\ttrain's auc: 0.827626\tvalid's binary_logloss: 0.56109\tvalid's auc: 0.759722\n",
      "[400]\ttrain's binary_logloss: 0.496996\ttrain's auc: 0.836853\tvalid's binary_logloss: 0.559517\tvalid's auc: 0.761693\n",
      "[500]\ttrain's binary_logloss: 0.488717\ttrain's auc: 0.843755\tvalid's binary_logloss: 0.558616\tvalid's auc: 0.762993\n",
      "[600]\ttrain's binary_logloss: 0.481367\ttrain's auc: 0.849763\tvalid's binary_logloss: 0.558096\tvalid's auc: 0.763833\n",
      "[700]\ttrain's binary_logloss: 0.474463\ttrain's auc: 0.855251\tvalid's binary_logloss: 0.557709\tvalid's auc: 0.764536\n",
      "[800]\ttrain's binary_logloss: 0.468283\ttrain's auc: 0.860047\tvalid's binary_logloss: 0.557471\tvalid's auc: 0.765101\n",
      "[900]\ttrain's binary_logloss: 0.46269\ttrain's auc: 0.864334\tvalid's binary_logloss: 0.557315\tvalid's auc: 0.765531\n",
      "[1000]\ttrain's binary_logloss: 0.457021\ttrain's auc: 0.868605\tvalid's binary_logloss: 0.557278\tvalid's auc: 0.765875\n",
      "[1100]\ttrain's binary_logloss: 0.4518\ttrain's auc: 0.872474\tvalid's binary_logloss: 0.557457\tvalid's auc: 0.765987\n",
      "[1200]\ttrain's binary_logloss: 0.446963\ttrain's auc: 0.875963\tvalid's binary_logloss: 0.557614\tvalid's auc: 0.766115\n",
      "[1300]\ttrain's binary_logloss: 0.442306\ttrain's auc: 0.879283\tvalid's binary_logloss: 0.557797\tvalid's auc: 0.766261\n",
      "[1400]\ttrain's binary_logloss: 0.437785\ttrain's auc: 0.882484\tvalid's binary_logloss: 0.558072\tvalid's auc: 0.766257\n",
      "[1500]\ttrain's binary_logloss: 0.433511\ttrain's auc: 0.885451\tvalid's binary_logloss: 0.558259\tvalid's auc: 0.766387\n",
      "[1600]\ttrain's binary_logloss: 0.42931\ttrain's auc: 0.888334\tvalid's binary_logloss: 0.558512\tvalid's auc: 0.766414\n",
      "[1700]\ttrain's binary_logloss: 0.425234\ttrain's auc: 0.89113\tvalid's binary_logloss: 0.558855\tvalid's auc: 0.766372\n",
      "[1800]\ttrain's binary_logloss: 0.421372\ttrain's auc: 0.893717\tvalid's binary_logloss: 0.559186\tvalid's auc: 0.766344\n",
      "[1900]\ttrain's binary_logloss: 0.417616\ttrain's auc: 0.896219\tvalid's binary_logloss: 0.559455\tvalid's auc: 0.766358\n",
      "Early stopping, best iteration is:\n",
      "[975]\ttrain's binary_logloss: 0.458392\ttrain's auc: 0.867586\tvalid's binary_logloss: 0.557232\tvalid's auc: 0.765852\n",
      "Best Round: 1568\n",
      "Training loss: 0.43055, Validation loss: 0.55842\n",
      "Training AUC : 0.88747, Validation AUC : 0.76644\n"
     ]
    }
   ],
   "source": [
    "params = {\n",
    "    'boosting_type': 'gbdt',\n",
    "    'objective': 'binary',\n",
    "    'metric': ['binary_logloss', 'auc'],  \n",
    "\n",
    "    'learning_rate': 0.1,       \n",
    "    'num_leaves': 220,\n",
    "    'max_depth': 10,\n",
    "    'min_data_in_leaf': 500,     \n",
    "    'feature_fraction': 0.8,\n",
    "    'bagging_fraction': 0.9,\n",
    "    'bagging_freq': 1,  \n",
    "    'lambda_l1': 6,\n",
    "    'lambda_l2': 2000,\n",
    "    'min_gain_to_split': 0,\n",
    "    'min_sum_hessian_in_leaf': 0.1,\n",
    "\n",
    "    'num_threads': 16,\n",
    "    'verbose': 0,\n",
    "    'is_training_metric': 'True'\n",
    "}\n",
    "print('Hyper-parameters:')\n",
    "print(params)\n",
    "\n",
    "MAX_ROUNDS = 5000\n",
    "evals_result = {}\n",
    "\n",
    "gbm = lgbm.train(params, train_data, num_boost_round=MAX_ROUNDS, valid_sets=[train_data, test_data], valid_names = ['train', 'valid'],\n",
    "                 evals_result=evals_result, early_stopping_rounds=1000, verbose_eval=100)\n",
    "\n",
    "bst_round = np.argmax(evals_result['valid']['auc'])\n",
    "trn_auc = evals_result['train']['auc'][bst_round]\n",
    "trn_loss = evals_result['train']['binary_logloss'][bst_round]\n",
    "val_auc = evals_result['valid']['auc'][bst_round]\n",
    "val_loss = evals_result['valid']['binary_logloss'][bst_round]\n",
    "\n",
    "print('Best Round: %d'%bst_round)\n",
    "print('Training loss: %.5f, Validation loss: %.5f'%(trn_loss, val_loss))\n",
    "print('Training AUC : %.5f, Validation AUC : %.5f'%(trn_auc, val_auc))\n"
   ]
  },
  {
   "cell_type": "markdown",
   "metadata": {},
   "source": [
    "本组参数的结果显示，验证集上最好的AUC是0.76644。在第1500轮的时候训练集的AUC在上升但是验证集的AUC开始下降，还是有点过拟合了，需要再调整参数."
   ]
  },
  {
   "cell_type": "code",
   "execution_count": null,
   "metadata": {},
   "outputs": [],
   "source": [
    "import datetime\n",
    "feat_cnt = train.shape[1]\n",
    "feature_importance = pd.DataFrame({'name':gbm.feature_name(), 'importance':gbm.feature_importance()}).sort_values(by='importance', ascending=False)\n",
    "feature_importance.to_csv('./music_val/feat_importance_0316_01.csv', index=False)\n",
    "\n",
    "res = '%s,%s,%d,%s,%.4f,%d,%d,%d,%.4f,%.4f,%d,%.4e,%.4e,%.4e,%.4e,%.4e,%d,%.5f,%.5f,%.5f,%.5f\\n'%(datetime.datetime.now().strftime('%Y-%m-%d %H:%M:%S'), \\\n",
    "        'LightGBM_baseline_song_context_prob', feat_cnt, params['boosting_type'], params['learning_rate'], params['num_leaves'], params['max_depth'], \\\n",
    "        params['min_data_in_leaf'], params['feature_fraction'], params['bagging_fraction'], \\\n",
    "        params['bagging_freq'], params['lambda_l1'], params['lambda_l2'], params['min_gain_to_split'], \\\n",
    "        params['min_sum_hessian_in_leaf'], 0.0, bst_round+1, trn_loss, trn_auc, val_loss, val_auc)\n",
    "f = open('./music_val/lgb_record_0316_01.csv', 'a')\n",
    "f.write(res)\n",
    "f.close()"
   ]
  },
  {
   "cell_type": "markdown",
   "metadata": {},
   "source": [
    "### 5） 'min_data_in_leaf': 1000"
   ]
  },
  {
   "cell_type": "code",
   "execution_count": null,
   "metadata": {},
   "outputs": [
    {
     "name": "stdout",
     "output_type": "stream",
     "text": [
      "Hyper-parameters:\n",
      "{'boosting_type': 'gbdt', 'objective': 'binary', 'metric': ['binary_logloss', 'auc'], 'learning_rate': 0.1, 'num_leaves': 220, 'max_depth': 10, 'min_data_in_leaf': 1000, 'feature_fraction': 0.8, 'bagging_fraction': 0.9, 'bagging_freq': 1, 'lambda_l1': 6, 'lambda_l2': 2000, 'min_gain_to_split': 0, 'min_sum_hessian_in_leaf': 0.1, 'num_threads': 16, 'verbose': 0, 'is_training_metric': 'True'}\n",
      "Training until validation scores don't improve for 1000 rounds\n",
      "[100]\ttrain's binary_logloss: 0.54105\ttrain's auc: 0.796604\tvalid's binary_logloss: 0.570169\tvalid's auc: 0.749288\n",
      "[200]\ttrain's binary_logloss: 0.522157\ttrain's auc: 0.814367\tvalid's binary_logloss: 0.564154\tvalid's auc: 0.756073\n",
      "[300]\ttrain's binary_logloss: 0.509014\ttrain's auc: 0.826338\tvalid's binary_logloss: 0.561565\tvalid's auc: 0.759224\n",
      "[400]\ttrain's binary_logloss: 0.498841\ttrain's auc: 0.835191\tvalid's binary_logloss: 0.56004\tvalid's auc: 0.761141\n",
      "[500]\ttrain's binary_logloss: 0.490223\ttrain's auc: 0.842442\tvalid's binary_logloss: 0.558975\tvalid's auc: 0.762585\n",
      "[600]\ttrain's binary_logloss: 0.482558\ttrain's auc: 0.848708\tvalid's binary_logloss: 0.558532\tvalid's auc: 0.763423\n",
      "[700]\ttrain's binary_logloss: 0.475668\ttrain's auc: 0.854245\tvalid's binary_logloss: 0.55823\tvalid's auc: 0.764049\n",
      "[800]\ttrain's binary_logloss: 0.46932\ttrain's auc: 0.859186\tvalid's binary_logloss: 0.558055\tvalid's auc: 0.764543\n",
      "[900]\ttrain's binary_logloss: 0.463401\ttrain's auc: 0.863718\tvalid's binary_logloss: 0.558031\tvalid's auc: 0.764835\n",
      "[1000]\ttrain's binary_logloss: 0.458158\ttrain's auc: 0.867678\tvalid's binary_logloss: 0.558065\tvalid's auc: 0.765086\n",
      "[1100]\ttrain's binary_logloss: 0.453023\ttrain's auc: 0.87148\tvalid's binary_logloss: 0.558191\tvalid's auc: 0.765261\n",
      "[1200]\ttrain's binary_logloss: 0.44834\ttrain's auc: 0.874883\tvalid's binary_logloss: 0.558339\tvalid's auc: 0.765421\n",
      "[1300]\ttrain's binary_logloss: 0.443551\ttrain's auc: 0.878352\tvalid's binary_logloss: 0.558579\tvalid's auc: 0.7655\n",
      "[1400]\ttrain's binary_logloss: 0.439208\ttrain's auc: 0.881451\tvalid's binary_logloss: 0.558753\tvalid's auc: 0.76566\n",
      "[1500]\ttrain's binary_logloss: 0.434925\ttrain's auc: 0.884441\tvalid's binary_logloss: 0.558959\tvalid's auc: 0.76569\n",
      "[1600]\ttrain's binary_logloss: 0.430762\ttrain's auc: 0.887309\tvalid's binary_logloss: 0.559307\tvalid's auc: 0.765632\n",
      "[1700]\ttrain's binary_logloss: 0.426833\ttrain's auc: 0.890011\tvalid's binary_logloss: 0.559571\tvalid's auc: 0.765661\n",
      "[1800]\ttrain's binary_logloss: 0.423157\ttrain's auc: 0.892503\tvalid's binary_logloss: 0.559893\tvalid's auc: 0.765605\n",
      "Early stopping, best iteration is:\n",
      "[859]\ttrain's binary_logloss: 0.465879\ttrain's auc: 0.861817\tvalid's binary_logloss: 0.557977\tvalid's auc: 0.76478\n",
      "Best Round: 1438\n",
      "Training loss: 0.43760, Validation loss: 0.55878\n",
      "Training AUC : 0.88258, Validation AUC : 0.76573\n"
     ]
    }
   ],
   "source": [
    "params = {\n",
    "    'boosting_type': 'gbdt',\n",
    "    'objective': 'binary',\n",
    "    'metric': ['binary_logloss', 'auc'],  \n",
    "\n",
    "    'learning_rate': 0.1,       \n",
    "    'num_leaves': 220,\n",
    "    'max_depth': 10,\n",
    "    'min_data_in_leaf': 1000,     \n",
    "    'feature_fraction': 0.8,\n",
    "    'bagging_fraction': 0.9,\n",
    "    'bagging_freq': 1,  \n",
    "    'lambda_l1': 6,\n",
    "    'lambda_l2': 2000,\n",
    "    'min_gain_to_split': 0,\n",
    "    'min_sum_hessian_in_leaf': 0.1,\n",
    "\n",
    "    'num_threads': 16,\n",
    "    'verbose': 0,\n",
    "    'is_training_metric': 'True'\n",
    "}\n",
    "print('Hyper-parameters:')\n",
    "print(params)\n",
    "\n",
    "MAX_ROUNDS = 5000\n",
    "evals_result = {}\n",
    "\n",
    "gbm = lgbm.train(params, train_data, num_boost_round=MAX_ROUNDS, valid_sets=[train_data, test_data], valid_names = ['train', 'valid'],\n",
    "                 evals_result=evals_result, early_stopping_rounds=1000, verbose_eval=100)\n",
    "\n",
    "bst_round = np.argmax(evals_result['valid']['auc'])\n",
    "trn_auc = evals_result['train']['auc'][bst_round]\n",
    "trn_loss = evals_result['train']['binary_logloss'][bst_round]\n",
    "val_auc = evals_result['valid']['auc'][bst_round]\n",
    "val_loss = evals_result['valid']['binary_logloss'][bst_round]\n",
    "\n",
    "print('Best Round: %d'%bst_round)\n",
    "print('Training loss: %.5f, Validation loss: %.5f'%(trn_loss, val_loss))\n",
    "print('Training AUC : %.5f, Validation AUC : %.5f'%(trn_auc, val_auc))\n"
   ]
  },
  {
   "cell_type": "markdown",
   "metadata": {},
   "source": [
    "本组参数的结果显示，AUC最好的是0.76573， 比min_data_in_leaf为500的时候分数降低了。选择上一组参数"
   ]
  },
  {
   "cell_type": "markdown",
   "metadata": {},
   "source": [
    "### 6）     'num_leaves': 99,  'min_data_in_leaf': 1306,  'feature_fraction': 0.6866, 'bagging_fraction': 0.9054, 'lambda_l1': 6.37, 'lambda_l2': 65200"
   ]
  },
  {
   "cell_type": "code",
   "execution_count": 6,
   "metadata": {},
   "outputs": [
    {
     "name": "stdout",
     "output_type": "stream",
     "text": [
      "Hyper-parameters:\n",
      "{'boosting_type': 'gbdt', 'objective': 'binary', 'metric': ['binary_logloss', 'auc'], 'learning_rate': 0.1, 'num_leaves': 99, 'max_depth': 10, 'min_data_in_leaf': 1306, 'feature_fraction': 0.6866, 'bagging_fraction': 0.9054, 'bagging_freq': 1, 'lambda_l1': 6.37, 'lambda_l2': 65200, 'min_gain_to_split': 0, 'min_sum_hessian_in_leaf': 0.1, 'num_threads': 16, 'verbose': 0, 'is_training_metric': 'True'}\n",
      "Training until validation scores don't improve for 1000 rounds\n",
      "[100]\ttrain's binary_logloss: 0.577551\ttrain's auc: 0.764904\tvalid's binary_logloss: 0.59098\tvalid's auc: 0.732371\n",
      "[200]\ttrain's binary_logloss: 0.562095\ttrain's auc: 0.777491\tvalid's binary_logloss: 0.580431\tvalid's auc: 0.741427\n",
      "[300]\ttrain's binary_logloss: 0.553707\ttrain's auc: 0.784602\tvalid's binary_logloss: 0.575452\tvalid's auc: 0.745751\n",
      "[400]\ttrain's binary_logloss: 0.547639\ttrain's auc: 0.790051\tvalid's binary_logloss: 0.572351\tvalid's auc: 0.748634\n",
      "[500]\ttrain's binary_logloss: 0.542836\ttrain's auc: 0.794515\tvalid's binary_logloss: 0.570195\tvalid's auc: 0.750747\n",
      "[600]\ttrain's binary_logloss: 0.538719\ttrain's auc: 0.798406\tvalid's binary_logloss: 0.56855\tvalid's auc: 0.752378\n",
      "[700]\ttrain's binary_logloss: 0.535173\ttrain's auc: 0.801718\tvalid's binary_logloss: 0.567219\tvalid's auc: 0.753742\n",
      "[800]\ttrain's binary_logloss: 0.532068\ttrain's auc: 0.804578\tvalid's binary_logloss: 0.56614\tvalid's auc: 0.754813\n",
      "[900]\ttrain's binary_logloss: 0.529228\ttrain's auc: 0.80724\tvalid's binary_logloss: 0.565195\tvalid's auc: 0.75582\n",
      "[1000]\ttrain's binary_logloss: 0.526559\ttrain's auc: 0.809719\tvalid's binary_logloss: 0.564336\tvalid's auc: 0.756725\n",
      "[1100]\ttrain's binary_logloss: 0.52412\ttrain's auc: 0.811977\tvalid's binary_logloss: 0.563694\tvalid's auc: 0.757387\n",
      "[1200]\ttrain's binary_logloss: 0.52183\ttrain's auc: 0.814077\tvalid's binary_logloss: 0.563071\tvalid's auc: 0.75807\n",
      "[1300]\ttrain's binary_logloss: 0.519744\ttrain's auc: 0.815984\tvalid's binary_logloss: 0.562594\tvalid's auc: 0.758591\n",
      "[1400]\ttrain's binary_logloss: 0.517839\ttrain's auc: 0.817697\tvalid's binary_logloss: 0.562179\tvalid's auc: 0.759047\n",
      "[1500]\ttrain's binary_logloss: 0.515985\ttrain's auc: 0.819368\tvalid's binary_logloss: 0.561774\tvalid's auc: 0.75949\n",
      "[1600]\ttrain's binary_logloss: 0.514204\ttrain's auc: 0.820969\tvalid's binary_logloss: 0.561374\tvalid's auc: 0.75994\n",
      "[1700]\ttrain's binary_logloss: 0.5125\ttrain's auc: 0.822502\tvalid's binary_logloss: 0.561047\tvalid's auc: 0.760323\n",
      "[1800]\ttrain's binary_logloss: 0.510838\ttrain's auc: 0.82396\tvalid's binary_logloss: 0.560709\tvalid's auc: 0.760724\n",
      "[1900]\ttrain's binary_logloss: 0.509294\ttrain's auc: 0.825321\tvalid's binary_logloss: 0.560473\tvalid's auc: 0.761015\n",
      "[2000]\ttrain's binary_logloss: 0.507774\ttrain's auc: 0.826676\tvalid's binary_logloss: 0.560249\tvalid's auc: 0.761285\n",
      "[2100]\ttrain's binary_logloss: 0.506304\ttrain's auc: 0.827947\tvalid's binary_logloss: 0.560006\tvalid's auc: 0.761586\n",
      "[2200]\ttrain's binary_logloss: 0.504942\ttrain's auc: 0.829143\tvalid's binary_logloss: 0.5598\tvalid's auc: 0.761837\n",
      "[2300]\ttrain's binary_logloss: 0.503588\ttrain's auc: 0.830299\tvalid's binary_logloss: 0.559614\tvalid's auc: 0.762079\n",
      "[2400]\ttrain's binary_logloss: 0.502286\ttrain's auc: 0.831424\tvalid's binary_logloss: 0.559437\tvalid's auc: 0.762307\n",
      "[2500]\ttrain's binary_logloss: 0.501002\ttrain's auc: 0.832535\tvalid's binary_logloss: 0.559281\tvalid's auc: 0.762506\n",
      "[2600]\ttrain's binary_logloss: 0.499817\ttrain's auc: 0.833543\tvalid's binary_logloss: 0.559115\tvalid's auc: 0.762723\n",
      "[2700]\ttrain's binary_logloss: 0.498576\ttrain's auc: 0.834596\tvalid's binary_logloss: 0.55898\tvalid's auc: 0.762909\n",
      "[2800]\ttrain's binary_logloss: 0.497386\ttrain's auc: 0.83561\tvalid's binary_logloss: 0.558836\tvalid's auc: 0.763097\n",
      "[2900]\ttrain's binary_logloss: 0.496234\ttrain's auc: 0.836578\tvalid's binary_logloss: 0.558728\tvalid's auc: 0.763257\n",
      "[3000]\ttrain's binary_logloss: 0.495108\ttrain's auc: 0.837544\tvalid's binary_logloss: 0.558609\tvalid's auc: 0.763431\n",
      "[3100]\ttrain's binary_logloss: 0.494012\ttrain's auc: 0.838458\tvalid's binary_logloss: 0.558511\tvalid's auc: 0.763576\n",
      "[3200]\ttrain's binary_logloss: 0.492949\ttrain's auc: 0.839332\tvalid's binary_logloss: 0.558419\tvalid's auc: 0.763723\n",
      "[3300]\ttrain's binary_logloss: 0.491895\ttrain's auc: 0.84022\tvalid's binary_logloss: 0.558388\tvalid's auc: 0.76378\n",
      "[3400]\ttrain's binary_logloss: 0.49089\ttrain's auc: 0.841047\tvalid's binary_logloss: 0.558286\tvalid's auc: 0.763932\n",
      "[3500]\ttrain's binary_logloss: 0.489886\ttrain's auc: 0.841883\tvalid's binary_logloss: 0.55825\tvalid's auc: 0.764006\n",
      "[3600]\ttrain's binary_logloss: 0.488894\ttrain's auc: 0.842699\tvalid's binary_logloss: 0.558179\tvalid's auc: 0.764119\n",
      "[3700]\ttrain's binary_logloss: 0.487924\ttrain's auc: 0.843505\tvalid's binary_logloss: 0.55814\tvalid's auc: 0.76421\n",
      "[3800]\ttrain's binary_logloss: 0.486937\ttrain's auc: 0.844312\tvalid's binary_logloss: 0.558099\tvalid's auc: 0.76429\n",
      "[3900]\ttrain's binary_logloss: 0.486023\ttrain's auc: 0.845063\tvalid's binary_logloss: 0.558068\tvalid's auc: 0.764366\n",
      "[4000]\ttrain's binary_logloss: 0.485124\ttrain's auc: 0.845791\tvalid's binary_logloss: 0.558034\tvalid's auc: 0.764447\n",
      "[4100]\ttrain's binary_logloss: 0.484214\ttrain's auc: 0.846529\tvalid's binary_logloss: 0.558015\tvalid's auc: 0.764505\n",
      "[4200]\ttrain's binary_logloss: 0.483335\ttrain's auc: 0.847236\tvalid's binary_logloss: 0.557981\tvalid's auc: 0.764581\n",
      "[4300]\ttrain's binary_logloss: 0.482478\ttrain's auc: 0.847937\tvalid's binary_logloss: 0.557945\tvalid's auc: 0.764654\n",
      "[4400]\ttrain's binary_logloss: 0.481639\ttrain's auc: 0.848608\tvalid's binary_logloss: 0.557914\tvalid's auc: 0.764724\n",
      "[4500]\ttrain's binary_logloss: 0.480791\ttrain's auc: 0.849286\tvalid's binary_logloss: 0.557898\tvalid's auc: 0.764784\n",
      "[4600]\ttrain's binary_logloss: 0.479964\ttrain's auc: 0.849954\tvalid's binary_logloss: 0.557876\tvalid's auc: 0.764843\n",
      "[4700]\ttrain's binary_logloss: 0.47915\ttrain's auc: 0.850608\tvalid's binary_logloss: 0.557864\tvalid's auc: 0.764885\n",
      "[4800]\ttrain's binary_logloss: 0.478347\ttrain's auc: 0.851261\tvalid's binary_logloss: 0.557851\tvalid's auc: 0.764931\n",
      "[4900]\ttrain's binary_logloss: 0.477555\ttrain's auc: 0.851906\tvalid's binary_logloss: 0.557816\tvalid's auc: 0.765005\n",
      "[5000]\ttrain's binary_logloss: 0.47677\ttrain's auc: 0.852518\tvalid's binary_logloss: 0.557808\tvalid's auc: 0.765056\n",
      "[5100]\ttrain's binary_logloss: 0.475996\ttrain's auc: 0.853132\tvalid's binary_logloss: 0.557831\tvalid's auc: 0.765074\n",
      "[5200]\ttrain's binary_logloss: 0.47522\ttrain's auc: 0.853747\tvalid's binary_logloss: 0.557823\tvalid's auc: 0.76512\n",
      "[5300]\ttrain's binary_logloss: 0.474463\ttrain's auc: 0.854352\tvalid's binary_logloss: 0.557808\tvalid's auc: 0.765169\n",
      "[5400]\ttrain's binary_logloss: 0.473737\ttrain's auc: 0.854915\tvalid's binary_logloss: 0.557804\tvalid's auc: 0.765215\n",
      "[5500]\ttrain's binary_logloss: 0.473006\ttrain's auc: 0.855489\tvalid's binary_logloss: 0.557801\tvalid's auc: 0.765259\n",
      "[5600]\ttrain's binary_logloss: 0.472285\ttrain's auc: 0.85606\tvalid's binary_logloss: 0.557796\tvalid's auc: 0.7653\n",
      "[5700]\ttrain's binary_logloss: 0.471571\ttrain's auc: 0.85661\tvalid's binary_logloss: 0.557799\tvalid's auc: 0.765334\n",
      "[5800]\ttrain's binary_logloss: 0.470874\ttrain's auc: 0.857171\tvalid's binary_logloss: 0.557809\tvalid's auc: 0.765359\n",
      "[5900]\ttrain's binary_logloss: 0.470171\ttrain's auc: 0.857711\tvalid's binary_logloss: 0.557798\tvalid's auc: 0.765411\n",
      "[6000]\ttrain's binary_logloss: 0.469473\ttrain's auc: 0.858256\tvalid's binary_logloss: 0.557794\tvalid's auc: 0.765441\n",
      "[6100]\ttrain's binary_logloss: 0.468787\ttrain's auc: 0.858777\tvalid's binary_logloss: 0.557812\tvalid's auc: 0.765464\n",
      "[6200]\ttrain's binary_logloss: 0.468111\ttrain's auc: 0.859321\tvalid's binary_logloss: 0.557771\tvalid's auc: 0.765526\n",
      "[6300]\ttrain's binary_logloss: 0.467436\ttrain's auc: 0.859834\tvalid's binary_logloss: 0.557807\tvalid's auc: 0.765526\n",
      "[6400]\ttrain's binary_logloss: 0.46677\ttrain's auc: 0.86034\tvalid's binary_logloss: 0.557831\tvalid's auc: 0.765549\n",
      "[6500]\ttrain's binary_logloss: 0.466122\ttrain's auc: 0.860854\tvalid's binary_logloss: 0.557844\tvalid's auc: 0.765566\n",
      "[6600]\ttrain's binary_logloss: 0.465474\ttrain's auc: 0.861351\tvalid's binary_logloss: 0.557865\tvalid's auc: 0.765585\n",
      "[6700]\ttrain's binary_logloss: 0.464836\ttrain's auc: 0.861832\tvalid's binary_logloss: 0.557876\tvalid's auc: 0.765614\n",
      "[6800]\ttrain's binary_logloss: 0.464201\ttrain's auc: 0.862317\tvalid's binary_logloss: 0.557891\tvalid's auc: 0.765634\n",
      "[6900]\ttrain's binary_logloss: 0.46357\ttrain's auc: 0.862803\tvalid's binary_logloss: 0.557888\tvalid's auc: 0.765667\n",
      "[7000]\ttrain's binary_logloss: 0.462948\ttrain's auc: 0.86327\tvalid's binary_logloss: 0.557919\tvalid's auc: 0.76568\n",
      "[7100]\ttrain's binary_logloss: 0.462333\ttrain's auc: 0.863737\tvalid's binary_logloss: 0.557957\tvalid's auc: 0.765684\n",
      "[7200]\ttrain's binary_logloss: 0.461721\ttrain's auc: 0.864215\tvalid's binary_logloss: 0.557952\tvalid's auc: 0.765713\n",
      "Early stopping, best iteration is:\n",
      "[6200]\ttrain's binary_logloss: 0.468111\ttrain's auc: 0.859321\tvalid's binary_logloss: 0.557771\tvalid's auc: 0.765526\n",
      "Best Round: 7199\n",
      "Training loss: 0.46172, Validation loss: 0.55795\n",
      "Training AUC : 0.86421, Validation AUC : 0.76571\n"
     ]
    }
   ],
   "source": [
    "params = {\n",
    "    'boosting_type': 'gbdt',\n",
    "    'objective': 'binary',\n",
    "    'metric': ['binary_logloss', 'auc'],  \n",
    "\n",
    "    'learning_rate': 0.1,       \n",
    "    'num_leaves': 99,\n",
    "    'max_depth': 10,\n",
    "    'min_data_in_leaf': 1306,     \n",
    "    'feature_fraction': 0.6866,\n",
    "    'bagging_fraction': 0.9054,\n",
    "    'bagging_freq': 1,  \n",
    "    'lambda_l1': 6.37,\n",
    "    'lambda_l2': 65200,\n",
    "    'min_gain_to_split': 0,\n",
    "    'min_sum_hessian_in_leaf': 0.1,\n",
    "\n",
    "    'num_threads': 16,\n",
    "    'verbose': 0,\n",
    "    'is_training_metric': 'True'\n",
    "}\n",
    "print('Hyper-parameters:')\n",
    "print(params)\n",
    "\n",
    "MAX_ROUNDS = 8000\n",
    "evals_result = {}\n",
    "\n",
    "gbm = lgbm.train(params, train_data, num_boost_round=MAX_ROUNDS, valid_sets=[train_data, test_data], valid_names = ['train', 'valid'],\n",
    "                 evals_result=evals_result, early_stopping_rounds=1000, verbose_eval=100)\n",
    "\n",
    "bst_round = np.argmax(evals_result['valid']['auc'])\n",
    "trn_auc = evals_result['train']['auc'][bst_round]\n",
    "trn_loss = evals_result['train']['binary_logloss'][bst_round]\n",
    "val_auc = evals_result['valid']['auc'][bst_round]\n",
    "val_loss = evals_result['valid']['binary_logloss'][bst_round]\n",
    "\n",
    "print('Best Round: %d'%bst_round)\n",
    "print('Training loss: %.5f, Validation loss: %.5f'%(trn_loss, val_loss))\n",
    "print('Training AUC : %.5f, Validation AUC : %.5f'%(trn_auc, val_auc))\n"
   ]
  },
  {
   "cell_type": "markdown",
   "metadata": {},
   "source": [
    "### 6）     'num_leaves': 120, 'max_depth': 10, 'min_data_in_leaf': 1000,  'feature_fraction': 0.8, 'bagging_fraction': 0.9, 'lambda_l1': 6, 'lambda_l2': 40000"
   ]
  },
  {
   "cell_type": "code",
   "execution_count": 7,
   "metadata": {},
   "outputs": [
    {
     "name": "stdout",
     "output_type": "stream",
     "text": [
      "Hyper-parameters:\n",
      "{'boosting_type': 'gbdt', 'objective': 'binary', 'metric': ['binary_logloss', 'auc'], 'learning_rate': 0.1, 'num_leaves': 120, 'max_depth': 10, 'min_data_in_leaf': 1000, 'feature_fraction': 0.8, 'bagging_fraction': 0.9, 'bagging_freq': 1, 'lambda_l1': 5, 'lambda_l2': 50000, 'min_gain_to_split': 0, 'min_sum_hessian_in_leaf': 0.1, 'num_threads': 16, 'verbose': 0, 'is_training_metric': 'True'}\n",
      "Training until validation scores don't improve for 1000 rounds\n",
      "[100]\ttrain's binary_logloss: 0.573242\ttrain's auc: 0.76826\tvalid's binary_logloss: 0.587723\tvalid's auc: 0.734886\n",
      "[200]\ttrain's binary_logloss: 0.557789\ttrain's auc: 0.780997\tvalid's binary_logloss: 0.577804\tvalid's auc: 0.743344\n",
      "[300]\ttrain's binary_logloss: 0.549218\ttrain's auc: 0.788471\tvalid's binary_logloss: 0.573079\tvalid's auc: 0.747668\n",
      "[400]\ttrain's binary_logloss: 0.542966\ttrain's auc: 0.794256\tvalid's binary_logloss: 0.570172\tvalid's auc: 0.750482\n",
      "[500]\ttrain's binary_logloss: 0.537934\ttrain's auc: 0.799005\tvalid's binary_logloss: 0.56821\tvalid's auc: 0.752488\n",
      "[600]\ttrain's binary_logloss: 0.53368\ttrain's auc: 0.802995\tvalid's binary_logloss: 0.566637\tvalid's auc: 0.754113\n",
      "[700]\ttrain's binary_logloss: 0.529932\ttrain's auc: 0.806541\tvalid's binary_logloss: 0.56536\tvalid's auc: 0.755461\n",
      "[800]\ttrain's binary_logloss: 0.526533\ttrain's auc: 0.809697\tvalid's binary_logloss: 0.564265\tvalid's auc: 0.756649\n",
      "[900]\ttrain's binary_logloss: 0.523524\ttrain's auc: 0.812472\tvalid's binary_logloss: 0.563428\tvalid's auc: 0.757537\n",
      "[1000]\ttrain's binary_logloss: 0.520678\ttrain's auc: 0.815124\tvalid's binary_logloss: 0.562666\tvalid's auc: 0.758358\n",
      "[1100]\ttrain's binary_logloss: 0.518033\ttrain's auc: 0.81752\tvalid's binary_logloss: 0.562057\tvalid's auc: 0.759051\n",
      "[1200]\ttrain's binary_logloss: 0.515571\ttrain's auc: 0.819745\tvalid's binary_logloss: 0.561495\tvalid's auc: 0.759688\n",
      "[1300]\ttrain's binary_logloss: 0.51328\ttrain's auc: 0.821792\tvalid's binary_logloss: 0.561015\tvalid's auc: 0.760255\n",
      "[1400]\ttrain's binary_logloss: 0.511084\ttrain's auc: 0.82377\tvalid's binary_logloss: 0.560628\tvalid's auc: 0.760714\n",
      "[1500]\ttrain's binary_logloss: 0.509021\ttrain's auc: 0.8256\tvalid's binary_logloss: 0.560315\tvalid's auc: 0.76109\n",
      "[1600]\ttrain's binary_logloss: 0.507047\ttrain's auc: 0.827325\tvalid's binary_logloss: 0.559988\tvalid's auc: 0.761474\n",
      "[1700]\ttrain's binary_logloss: 0.5051\ttrain's auc: 0.829039\tvalid's binary_logloss: 0.559705\tvalid's auc: 0.76182\n",
      "[1800]\ttrain's binary_logloss: 0.503258\ttrain's auc: 0.830623\tvalid's binary_logloss: 0.55944\tvalid's auc: 0.762162\n",
      "[1900]\ttrain's binary_logloss: 0.501467\ttrain's auc: 0.832172\tvalid's binary_logloss: 0.559265\tvalid's auc: 0.7624\n",
      "[2000]\ttrain's binary_logloss: 0.499802\ttrain's auc: 0.833611\tvalid's binary_logloss: 0.559043\tvalid's auc: 0.762679\n",
      "[2100]\ttrain's binary_logloss: 0.498186\ttrain's auc: 0.835004\tvalid's binary_logloss: 0.558849\tvalid's auc: 0.762939\n",
      "[2200]\ttrain's binary_logloss: 0.496608\ttrain's auc: 0.83634\tvalid's binary_logloss: 0.558663\tvalid's auc: 0.763185\n",
      "[2300]\ttrain's binary_logloss: 0.495126\ttrain's auc: 0.837581\tvalid's binary_logloss: 0.558551\tvalid's auc: 0.763361\n",
      "[2400]\ttrain's binary_logloss: 0.493672\ttrain's auc: 0.838802\tvalid's binary_logloss: 0.558402\tvalid's auc: 0.76357\n",
      "[2500]\ttrain's binary_logloss: 0.492248\ttrain's auc: 0.840004\tvalid's binary_logloss: 0.558274\tvalid's auc: 0.763759\n",
      "[2600]\ttrain's binary_logloss: 0.490899\ttrain's auc: 0.841129\tvalid's binary_logloss: 0.558163\tvalid's auc: 0.763936\n",
      "[2700]\ttrain's binary_logloss: 0.489568\ttrain's auc: 0.842243\tvalid's binary_logloss: 0.55803\tvalid's auc: 0.764118\n",
      "[2800]\ttrain's binary_logloss: 0.488245\ttrain's auc: 0.843327\tvalid's binary_logloss: 0.557932\tvalid's auc: 0.764271\n",
      "[2900]\ttrain's binary_logloss: 0.486961\ttrain's auc: 0.844367\tvalid's binary_logloss: 0.557872\tvalid's auc: 0.764403\n",
      "[3000]\ttrain's binary_logloss: 0.485728\ttrain's auc: 0.845391\tvalid's binary_logloss: 0.557792\tvalid's auc: 0.764525\n",
      "[3100]\ttrain's binary_logloss: 0.484529\ttrain's auc: 0.846361\tvalid's binary_logloss: 0.557734\tvalid's auc: 0.764644\n",
      "[3200]\ttrain's binary_logloss: 0.483362\ttrain's auc: 0.847321\tvalid's binary_logloss: 0.557663\tvalid's auc: 0.764769\n",
      "[3300]\ttrain's binary_logloss: 0.482205\ttrain's auc: 0.848257\tvalid's binary_logloss: 0.557585\tvalid's auc: 0.764895\n",
      "[3400]\ttrain's binary_logloss: 0.481075\ttrain's auc: 0.849169\tvalid's binary_logloss: 0.557593\tvalid's auc: 0.764931\n",
      "[3500]\ttrain's binary_logloss: 0.479927\ttrain's auc: 0.850095\tvalid's binary_logloss: 0.557555\tvalid's auc: 0.765025\n",
      "[3600]\ttrain's binary_logloss: 0.478846\ttrain's auc: 0.850954\tvalid's binary_logloss: 0.557512\tvalid's auc: 0.765129\n",
      "[3700]\ttrain's binary_logloss: 0.477767\ttrain's auc: 0.851814\tvalid's binary_logloss: 0.557503\tvalid's auc: 0.765185\n",
      "[3800]\ttrain's binary_logloss: 0.476678\ttrain's auc: 0.85268\tvalid's binary_logloss: 0.557469\tvalid's auc: 0.765277\n",
      "[3900]\ttrain's binary_logloss: 0.475659\ttrain's auc: 0.853486\tvalid's binary_logloss: 0.557475\tvalid's auc: 0.765325\n",
      "[4000]\ttrain's binary_logloss: 0.474641\ttrain's auc: 0.85428\tvalid's binary_logloss: 0.557466\tvalid's auc: 0.76539\n",
      "[4100]\ttrain's binary_logloss: 0.473656\ttrain's auc: 0.855069\tvalid's binary_logloss: 0.557419\tvalid's auc: 0.76546\n",
      "[4200]\ttrain's binary_logloss: 0.472673\ttrain's auc: 0.85583\tvalid's binary_logloss: 0.557418\tvalid's auc: 0.765519\n",
      "[4300]\ttrain's binary_logloss: 0.471698\ttrain's auc: 0.856604\tvalid's binary_logloss: 0.557435\tvalid's auc: 0.765541\n",
      "[4400]\ttrain's binary_logloss: 0.470765\ttrain's auc: 0.857337\tvalid's binary_logloss: 0.557403\tvalid's auc: 0.765611\n",
      "[4500]\ttrain's binary_logloss: 0.469801\ttrain's auc: 0.858064\tvalid's binary_logloss: 0.557422\tvalid's auc: 0.765641\n",
      "[4600]\ttrain's binary_logloss: 0.468863\ttrain's auc: 0.858804\tvalid's binary_logloss: 0.557437\tvalid's auc: 0.765679\n",
      "[4700]\ttrain's binary_logloss: 0.467944\ttrain's auc: 0.859527\tvalid's binary_logloss: 0.557416\tvalid's auc: 0.765733\n",
      "[4800]\ttrain's binary_logloss: 0.467038\ttrain's auc: 0.860224\tvalid's binary_logloss: 0.557409\tvalid's auc: 0.765781\n",
      "[4900]\ttrain's binary_logloss: 0.466126\ttrain's auc: 0.86093\tvalid's binary_logloss: 0.557433\tvalid's auc: 0.765793\n",
      "[5000]\ttrain's binary_logloss: 0.465253\ttrain's auc: 0.861585\tvalid's binary_logloss: 0.557456\tvalid's auc: 0.765832\n",
      "[5100]\ttrain's binary_logloss: 0.464388\ttrain's auc: 0.862248\tvalid's binary_logloss: 0.557493\tvalid's auc: 0.765848\n",
      "[5200]\ttrain's binary_logloss: 0.463523\ttrain's auc: 0.862903\tvalid's binary_logloss: 0.55751\tvalid's auc: 0.765882\n",
      "[5300]\ttrain's binary_logloss: 0.462682\ttrain's auc: 0.86354\tvalid's binary_logloss: 0.557523\tvalid's auc: 0.765915\n",
      "Early stopping, best iteration is:\n",
      "[4395]\ttrain's binary_logloss: 0.470814\ttrain's auc: 0.857304\tvalid's binary_logloss: 0.557398\tvalid's auc: 0.765609\n",
      "Best Round: 5385\n",
      "Training loss: 0.46197, Validation loss: 0.55753\n",
      "Training AUC : 0.86408, Validation AUC : 0.76595\n"
     ]
    }
   ],
   "source": [
    "params = {\n",
    "    'boosting_type': 'gbdt',\n",
    "    'objective': 'binary',\n",
    "    'metric': ['binary_logloss', 'auc'],  \n",
    "\n",
    "    'learning_rate': 0.1,       \n",
    "    'num_leaves': 120,\n",
    "    'max_depth': 10,\n",
    "    'min_data_in_leaf': 1000,     \n",
    "    'feature_fraction': 0.8,\n",
    "    'bagging_fraction': 0.9,\n",
    "    'bagging_freq': 1,  \n",
    "    'lambda_l1': 5,\n",
    "    'lambda_l2': 50000,\n",
    "    'min_gain_to_split': 0,\n",
    "    'min_sum_hessian_in_leaf': 0.1,\n",
    "\n",
    "    'num_threads': 16,\n",
    "    'verbose': 0,\n",
    "    'is_training_metric': 'True'\n",
    "}\n",
    "print('Hyper-parameters:')\n",
    "print(params)\n",
    "\n",
    "MAX_ROUNDS = 8000\n",
    "evals_result = {}\n",
    "\n",
    "gbm = lgbm.train(params, train_data, num_boost_round=MAX_ROUNDS, valid_sets=[train_data, test_data], valid_names = ['train', 'valid'],\n",
    "                 evals_result=evals_result, early_stopping_rounds=1000, verbose_eval=100)\n",
    "\n",
    "bst_round = np.argmax(evals_result['valid']['auc'])\n",
    "trn_auc = evals_result['train']['auc'][bst_round]\n",
    "trn_loss = evals_result['train']['binary_logloss'][bst_round]\n",
    "val_auc = evals_result['valid']['auc'][bst_round]\n",
    "val_loss = evals_result['valid']['binary_logloss'][bst_round]\n",
    "\n",
    "print('Best Round: %d'%bst_round)\n",
    "print('Training loss: %.5f, Validation loss: %.5f'%(trn_loss, val_loss))\n",
    "print('Training AUC : %.5f, Validation AUC : %.5f'%(trn_auc, val_auc))\n"
   ]
  },
  {
   "cell_type": "markdown",
   "metadata": {},
   "source": [
    "### 从以上调参结果选择最优的一组超参数：验证集上分数是0.76644\n",
    " {'boosting_type': 'gbdt', 'objective': 'binary', 'metric': ['binary_logloss', 'auc'], 'learning_rate': 0.1, 'num_leaves': 220, 'max_depth': 10, 'min_data_in_leaf': 500, 'feature_fraction': 0.8, 'bagging_fraction': 0.9, 'bagging_freq': 1, 'lambda_l1': 6, 'lambda_l2': 2000, 'min_gain_to_split': 0, 'min_sum_hessian_in_leaf': 0.1, 'num_threads': 16, 'verbose': 0, 'is_training_metric': 'True'}\n"
   ]
  },
  {
   "cell_type": "code",
   "execution_count": null,
   "metadata": {},
   "outputs": [],
   "source": []
  }
 ],
 "metadata": {
  "kernelspec": {
   "display_name": "Python 3",
   "language": "python",
   "name": "python3"
  },
  "language_info": {
   "codemirror_mode": {
    "name": "ipython",
    "version": 3
   },
   "file_extension": ".py",
   "mimetype": "text/x-python",
   "name": "python",
   "nbconvert_exporter": "python",
   "pygments_lexer": "ipython3",
   "version": "3.7.4"
  }
 },
 "nbformat": 4,
 "nbformat_minor": 1
}
